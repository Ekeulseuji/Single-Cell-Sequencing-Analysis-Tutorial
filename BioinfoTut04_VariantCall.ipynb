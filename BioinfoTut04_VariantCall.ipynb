{
 "cells": [
  {
   "cell_type": "code",
   "execution_count": null,
   "id": "346ff8fd-e503-4a0e-a1d1-2e43679196e9",
   "metadata": {},
   "outputs": [],
   "source": [
    "# 列样本\n",
    "bcftools query -l /data01/share/Bioinfo/lec6/subset_hg19.vcf.gz"
   ]
  },
  {
   "cell_type": "code",
   "execution_count": null,
   "id": "d6b984b6-e69b-421a-8c13-61679e1e0a6d",
   "metadata": {},
   "outputs": [],
   "source": [
    "# 查看 header 前 50 行\n",
    "bcftools view -h /data01/share/Bioinfo/lec6/subset_hg19.vcf.gz | head -n 50"
   ]
  },
  {
   "cell_type": "code",
   "execution_count": null,
   "id": "9fd4c0e6-f258-4d4e-b60f-252ad69e57e1",
   "metadata": {},
   "outputs": [],
   "source": [
    "# 按区间提取\n",
    "bcftools view -r 19:400000-500000 /data01/share/Bioinfo/lec6/subset_hg19.vcf.gz -Ov -o region.vcf"
   ]
  },
  {
   "cell_type": "code",
   "execution_count": null,
   "id": "7dc111e5-32cd-4126-8fdc-f8703caf1a0a",
   "metadata": {},
   "outputs": [],
   "source": [
    "# 打印每行的 GT（制表符分隔）\n",
    "bcftools query -f '%CHROM\\t%POS\\t%REF\\t%ALT[\\t%GT]\\n' /data01/share/Bioinfo/lec6/subset_hg19.vcf.gz | head"
   ]
  },
  {
   "cell_type": "code",
   "execution_count": null,
   "id": "44245a09-89b5-4c75-8eda-a62316735178",
   "metadata": {},
   "outputs": [],
   "source": [
    "# 过滤 QUAL>=20 且 INFO/DP>=10\n",
    "bcftools view -i 'QUAL>=20 && INFO/DP>=10' /data01/share/Bioinfo/lec6/subset_hg19.vcf.gz -Oz -o subset.filtered.vcf.gz\n",
    "tabix -p vcf subset.filtered.vcf.gz"
   ]
  },
  {
   "cell_type": "code",
   "execution_count": null,
   "id": "799244bf-81a1-48df-a954-c9700d4bfed6",
   "metadata": {},
   "outputs": [],
   "source": [
    "# 子集样本\n",
    "bcftools view -s Sample1,Sample2 /data01/share/Bioinfo/lec6/subset_hg19.vcf.gz -Oz -o sample_sub.vcf.gz\n",
    "tabix -p vcf sample_sub.vcf.gz"
   ]
  },
  {
   "cell_type": "code",
   "execution_count": null,
   "id": "467517f7-43b1-48b6-b688-e5d4f758cce7",
   "metadata": {},
   "outputs": [],
   "source": [
    "# 合并两个 vcf（示例）\n",
    "bcftools merge a.vcf.gz b.vcf.gz -Oz -o merged.vcf.gz\n",
    "tabix -p vcf merged.vcf.gz"
   ]
  },
  {
   "cell_type": "code",
   "execution_count": null,
   "id": "f89df370-b361-44a5-96f5-b7bd79374a5a",
   "metadata": {},
   "outputs": [],
   "source": [
    "# 注释（snpEff）\n",
    "snpEff download hg19\n",
    "snpEff hg19 subset.filtered.vcf.gz > annotated.vcf"
   ]
  },
  {
   "cell_type": "code",
   "execution_count": null,
   "id": "0f240c80-bda4-4e80-92ea-2cf8c402c92e",
   "metadata": {},
   "outputs": [],
   "source": []
  },
  {
   "cell_type": "code",
   "execution_count": null,
   "id": "88791051-b5f5-4939-876f-60f4e4f35944",
   "metadata": {},
   "outputs": [],
   "source": []
  },
  {
   "cell_type": "code",
   "execution_count": null,
   "id": "4e1e9eec-e6dd-43d7-9389-ca5b1acf71e4",
   "metadata": {},
   "outputs": [],
   "source": []
  },
  {
   "cell_type": "code",
   "execution_count": null,
   "id": "c16d6bb9-be60-4f1c-9c45-f87ec99ab4ed",
   "metadata": {},
   "outputs": [],
   "source": []
  },
  {
   "cell_type": "code",
   "execution_count": null,
   "id": "0e887c70-db4c-432d-ade5-b7b1821767a4",
   "metadata": {},
   "outputs": [],
   "source": []
  },
  {
   "cell_type": "code",
   "execution_count": null,
   "id": "54003085-9510-4c54-9d8c-43393b782ad8",
   "metadata": {},
   "outputs": [],
   "source": []
  },
  {
   "cell_type": "code",
   "execution_count": null,
   "id": "9c4376e6-99b2-4104-84b6-1363c1558878",
   "metadata": {},
   "outputs": [],
   "source": []
  },
  {
   "cell_type": "code",
   "execution_count": null,
   "id": "bca88f80-f754-4855-97fb-f23a34769bb3",
   "metadata": {},
   "outputs": [],
   "source": []
  },
  {
   "cell_type": "code",
   "execution_count": null,
   "id": "31d4118d-405f-4502-91aa-4962a8d844e2",
   "metadata": {},
   "outputs": [],
   "source": []
  }
 ],
 "metadata": {
  "kernelspec": {
   "display_name": "Python 3 (ipykernel)",
   "language": "python",
   "name": "python3"
  },
  "language_info": {
   "codemirror_mode": {
    "name": "ipython",
    "version": 3
   },
   "file_extension": ".py",
   "mimetype": "text/x-python",
   "name": "python",
   "nbconvert_exporter": "python",
   "pygments_lexer": "ipython3",
   "version": "3.13.5"
  }
 },
 "nbformat": 4,
 "nbformat_minor": 5
}
