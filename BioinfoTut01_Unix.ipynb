{
 "cells": [
  {
   "cell_type": "markdown",
   "id": "95b0c4aa-f87d-4740-8f41-5ca698f2a686",
   "metadata": {},
   "source": [
    "#### ***Convert a local hg19 refGene table (in `genePred` format) to `.gtf`***"
   ]
  },
  {
   "cell_type": "markdown",
   "id": "3480e3de-47f4-48eb-9333-cddc66febd79",
   "metadata": {},
   "source": [
    "##### ***1. Download the gene set of interest for hg19 (refGene table/knownGene table/...)***"
   ]
  },
  {
   "cell_type": "code",
   "execution_count": 3,
   "id": "35301ade-0652-4671-ac4b-8ab2df38dc2b",
   "metadata": {},
   "outputs": [
    {
     "name": "stdout",
     "output_type": "stream",
     "text": [
      "receiving incremental file list\n"
     ]
    }
   ],
   "source": [
    "!rsync -a -P rsync://hgdownload.soe.ucsc.edu/goldenPath/hg19/database/refGene.txt.gz ./"
   ]
  },
  {
   "cell_type": "markdown",
   "id": "ca8c1271-3ac7-4bbd-a238-88a9364b788a",
   "metadata": {},
   "source": [
    "##### ***2. Unzip***"
   ]
  },
  {
   "cell_type": "code",
   "execution_count": 4,
   "id": "863f594b-3d06-4f6e-8432-0f84c95bb049",
   "metadata": {},
   "outputs": [],
   "source": [
    "!gzip -d refGene.txt.gz"
   ]
  },
  {
   "cell_type": "code",
   "execution_count": 9,
   "id": "07f3d880-45eb-4697-989c-c8dc48805829",
   "metadata": {},
   "outputs": [
    {
     "name": "stdout",
     "output_type": "stream",
     "text": [
      "2085\tNR_046630\tchr3\t+\t196666747\t196669405\t196669405\t196669405\t3\t196666747,196667841,196669263,\t196666995,196668013,196669405,\t0\tNCBP2-AS1\tunk\tunk\t-1,-1,-1,\n",
      "2051\tNR_046598\tchr3\t+\t192232810\t192234362\t192234362\t192234362\t2\t192232810,192234269,\t192233297,192234362,\t0\tFGF12-AS2\tunk\tunk\t-1,-1,\n",
      "1312\tNR_046514\tchr13\t+\t95364969\t95368199\t95368199\t95368199\t2\t95364969,95365891,\t95365647,95368199,\t0\tSOX21-AS1\tunk\tunk\t-1,-1,\n",
      "585\tNR_106918\tchr1\t-\t17368\t17436\t17436\t17436\t1\t17368,\t17436,\t0\tMIR6859-1\tunk\tunk\t-1,\n",
      "585\tNR_107062\tchr1\t-\t17368\t17436\t17436\t17436\t1\t17368,\t17436,\t0\tMIR6859-2\tunk\tunk\t-1,\n",
      "585\tNR_107063\tchr1\t-\t17368\t17436\t17436\t17436\t1\t17368,\t17436,\t0\tMIR6859-3\tunk\tunk\t-1,\n",
      "585\tNR_128720\tchr1\t-\t17368\t17436\t17436\t17436\t1\t17368,\t17436,\t0\tMIR6859-4\tunk\tunk\t-1,\n",
      "585\tNR_036051\tchr1\t+\t30365\t30503\t30503\t30503\t1\t30365,\t30503,\t0\tMIR1302-2\tunk\tunk\t-1,\n",
      "585\tNR_036266\tchr1\t+\t30365\t30503\t30503\t30503\t1\t30365,\t30503,\t0\tMIR1302-9\tunk\tunk\t-1,\n",
      "585\tNR_036267\tchr1\t+\t30365\t30503\t30503\t30503\t1\t30365,\t30503,\t0\tMIR1302-10\tunk\tunk\t-1,\n"
     ]
    }
   ],
   "source": [
    "!head refGene.txt"
   ]
  },
  {
   "cell_type": "markdown",
   "id": "50864484-0833-4aec-8713-730226777915",
   "metadata": {},
   "source": [
    "##### ***3. Remove the first \"bin\" column, save it***\n",
    "##### ***$\\,\\,\\,\\,\\,$把每行第二个字段以后的所有字段内容写入到新的 refGene.input 文件中***"
   ]
  },
  {
   "cell_type": "code",
   "execution_count": 7,
   "id": "07496d15-9e8e-453c-9b29-c47a4708390d",
   "metadata": {},
   "outputs": [],
   "source": [
    "!cut -f 2- refGene.txt > refGene.input"
   ]
  },
  {
   "cell_type": "code",
   "execution_count": 8,
   "id": "3b386201-5811-41d6-8f42-c7b27a23395c",
   "metadata": {},
   "outputs": [
    {
     "name": "stdout",
     "output_type": "stream",
     "text": [
      "NR_046630\tchr3\t+\t196666747\t196669405\t196669405\t196669405\t3\t196666747,196667841,196669263,\t196666995,196668013,196669405,\t0\tNCBP2-AS1\tunk\tunk\t-1,-1,-1,\n",
      "NR_046598\tchr3\t+\t192232810\t192234362\t192234362\t192234362\t2\t192232810,192234269,\t192233297,192234362,\t0\tFGF12-AS2\tunk\tunk\t-1,-1,\n",
      "NR_046514\tchr13\t+\t95364969\t95368199\t95368199\t95368199\t2\t95364969,95365891,\t95365647,95368199,\t0\tSOX21-AS1\tunk\tunk\t-1,-1,\n",
      "NR_106918\tchr1\t-\t17368\t17436\t17436\t17436\t1\t17368,\t17436,\t0\tMIR6859-1\tunk\tunk\t-1,\n",
      "NR_107062\tchr1\t-\t17368\t17436\t17436\t17436\t1\t17368,\t17436,\t0\tMIR6859-2\tunk\tunk\t-1,\n",
      "NR_107063\tchr1\t-\t17368\t17436\t17436\t17436\t1\t17368,\t17436,\t0\tMIR6859-3\tunk\tunk\t-1,\n",
      "NR_128720\tchr1\t-\t17368\t17436\t17436\t17436\t1\t17368,\t17436,\t0\tMIR6859-4\tunk\tunk\t-1,\n",
      "NR_036051\tchr1\t+\t30365\t30503\t30503\t30503\t1\t30365,\t30503,\t0\tMIR1302-2\tunk\tunk\t-1,\n",
      "NR_036266\tchr1\t+\t30365\t30503\t30503\t30503\t1\t30365,\t30503,\t0\tMIR1302-9\tunk\tunk\t-1,\n",
      "NR_036267\tchr1\t+\t30365\t30503\t30503\t30503\t1\t30365,\t30503,\t0\tMIR1302-10\tunk\tunk\t-1,\n"
     ]
    }
   ],
   "source": [
    "!head refGene.input"
   ]
  },
  {
   "cell_type": "markdown",
   "id": "e9b736b0-6f1d-4423-9f81-0746c50adffe",
   "metadata": {},
   "source": [
    "##### ***4. Convert it to `.gtf`***"
   ]
  },
  {
   "cell_type": "code",
   "execution_count": 10,
   "id": "77036442-878f-4131-8fbd-53b66b5d28dd",
   "metadata": {},
   "outputs": [],
   "source": [
    "!genePredToGtf file refGene.input hg19refGene.gtf"
   ]
  },
  {
   "cell_type": "markdown",
   "id": "fcf06734-4c0c-4898-ba7e-51facc929fda",
   "metadata": {},
   "source": [
    "##### ***5. Sort output by chromosome anad coordinate***\n",
    "##### ***$\\,\\,\\,\\,\\,$首先按第1个字段（通常是染色体编号 如chr1 chr2等）进行排序***\n",
    "##### ***$\\,\\,\\,\\,\\,$在第1字段相同的情况下 按第4个字段以数值方式排序（通常是基因的起始位置）***"
   ]
  },
  {
   "cell_type": "code",
   "execution_count": 11,
   "id": "604c1831-a316-43ce-b145-9b8372e09285",
   "metadata": {},
   "outputs": [],
   "source": [
    "!cat hg19refGene.gtf | sort -k1,1 -k4,4n > hg19refGene.gtf.sorted"
   ]
  },
  {
   "cell_type": "code",
   "execution_count": 14,
   "id": "69bddd07-9dd9-4808-8c47-5bfdc4f3377c",
   "metadata": {},
   "outputs": [
    {
     "name": "stdout",
     "output_type": "stream",
     "text": [
      "chr1\trefGene.input\texon\t11869\t12227\t.\t+\t.\tgene_id \"DDX11L17\"; transcript_id \"NR_148357\"; exon_number \"1\"; exon_id \"NR_148357.1\"; gene_name \"DDX11L17\";\n",
      "chr1\trefGene.input\ttranscript\t11869\t14362\t.\t+\t.\tgene_id \"DDX11L17\"; transcript_id \"NR_148357\";  gene_name \"DDX11L17\";\n",
      "chr1\trefGene.input\texon\t11874\t12227\t.\t+\t.\tgene_id \"DDX11L1\"; transcript_id \"NR_046018\"; exon_number \"1\"; exon_id \"NR_046018.1\"; gene_name \"DDX11L1\";\n",
      "chr1\trefGene.input\ttranscript\t11874\t14409\t.\t+\t.\tgene_id \"DDX11L1\"; transcript_id \"NR_046018\";  gene_name \"DDX11L1\";\n",
      "chr1\trefGene.input\texon\t12613\t12721\t.\t+\t.\tgene_id \"DDX11L1\"; transcript_id \"NR_046018\"; exon_number \"2\"; exon_id \"NR_046018.2\"; gene_name \"DDX11L1\";\n",
      "chr1\trefGene.input\texon\t12613\t12721\t.\t+\t.\tgene_id \"DDX11L17\"; transcript_id \"NR_148357\"; exon_number \"2\"; exon_id \"NR_148357.2\"; gene_name \"DDX11L17\";\n",
      "chr1\trefGene.input\texon\t13221\t14362\t.\t+\t.\tgene_id \"DDX11L17\"; transcript_id \"NR_148357\"; exon_number \"3\"; exon_id \"NR_148357.3\"; gene_name \"DDX11L17\";\n",
      "chr1\trefGene.input\texon\t13221\t14409\t.\t+\t.\tgene_id \"DDX11L1\"; transcript_id \"NR_046018\"; exon_number \"3\"; exon_id \"NR_046018.3\"; gene_name \"DDX11L1\";\n",
      "chr1\trefGene.input\texon\t14362\t14829\t.\t-\t.\tgene_id \"WASH7P\"; transcript_id \"NR_024540\"; exon_number \"11\"; exon_id \"NR_024540.11\"; gene_name \"WASH7P\";\n",
      "chr1\trefGene.input\ttranscript\t14362\t29370\t.\t-\t.\tgene_id \"WASH7P\"; transcript_id \"NR_024540\";  gene_name \"WASH7P\";\n"
     ]
    }
   ],
   "source": [
    "!head hg19refGene.gtf.sorted"
   ]
  },
  {
   "cell_type": "markdown",
   "id": "56ce28b7-294c-4bf9-ac43-c1cf98726776",
   "metadata": {},
   "source": [
    "##### ***6. Run trimmomatic to keep high QC seqs***\n",
    "##### ***$\\,\\,\\,\\,\\,$首先用fastq-dump获取数据***\n",
    "##### ***$\\,\\,\\,\\,\\,$生成 fastqc reports on both datasets***"
   ]
  },
  {
   "cell_type": "code",
   "execution_count": null,
   "id": "8b439cbf-70e8-4c81-9b88-838b92c44509",
   "metadata": {},
   "outputs": [],
   "source": [
    "# !conda install -c bioconda fastqc"
   ]
  },
  {
   "cell_type": "code",
   "execution_count": 18,
   "id": "cc056aa3-d71d-4408-b856-3c5d7df7379b",
   "metadata": {},
   "outputs": [
    {
     "name": "stdout",
     "output_type": "stream",
     "text": [
      "Read 10000 spots for SRR1553607\n",
      "Written 10000 spots for SRR1553607\n"
     ]
    }
   ],
   "source": [
    "# 从SRA数据库中下载特定运行（Run）的测序数据(下载前10000个读数) 将下载的文件分为两个文件 并将其转换为FASTQ格式\n",
    "# !fastq-dump --split-files -X 10000 SRR1553607\n",
    "!/Users/ekeulseuji/sratoolkit.3.2.1-mac-x86_64/bin/fastq-dump --split-files -X 10000 SRR1553607"
   ]
  },
  {
   "cell_type": "code",
   "execution_count": 27,
   "id": "95566271-e500-4151-88b4-7cc8c904df07",
   "metadata": {},
   "outputs": [
    {
     "name": "stdout",
     "output_type": "stream",
     "text": [
      "TrimmomaticSE: Started with arguments:\n",
      " SRR1553607_2.fastq trimmed_2.fq SLIDINGWINDOW:4:30\n",
      "Automatically using 4 threads\n",
      "Quality encoding detected as phred33\n",
      "Input Reads: 10000 Surviving: 9277 (92.77%) Dropped: 723 (7.23%)\n",
      "TrimmomaticSE: Completed successfully\n"
     ]
    }
   ],
   "source": [
    "# SE - 单端测序 Single End模式\n",
    "# SLIDINGWINDOW:4:30 - 是修剪参数 表示在长度为4的窗口内 如果窗口内的平均质量分数低于30 则从窗口的起始位置开始修剪\n",
    "!trimmomatic SE SRR1553607_2.fastq trimmed_2.fq SLIDINGWINDOW:4:30"
   ]
  },
  {
   "cell_type": "code",
   "execution_count": 28,
   "id": "c8b8e5ea-92f0-4091-b7e7-90df2bc682a4",
   "metadata": {},
   "outputs": [
    {
     "name": "stdout",
     "output_type": "stream",
     "text": [
      "-rw-r--r--  1 ekeulseuji  staff   710544  9 29 21:23 SRR1553607_1_fastqc.html\n",
      "-rw-r--r--  1 ekeulseuji  staff   513855  9 29 21:23 SRR1553607_1_fastqc.zip\n",
      "-rw-r--r--  1 ekeulseuji  staff  2695576  9 29 20:47 SRR1553607_1.fastq\n",
      "-rw-r--r--  1 ekeulseuji  staff  2695576  9 29 20:47 SRR1553607_2.fastq\n"
     ]
    }
   ],
   "source": [
    "!ls -l SRR1553607*"
   ]
  },
  {
   "cell_type": "code",
   "execution_count": 29,
   "id": "e42c0fe8-4b99-492f-89db-ece6ee1b101b",
   "metadata": {},
   "outputs": [
    {
     "name": "stdout",
     "output_type": "stream",
     "text": [
      "null\n",
      "null\n",
      "Started analysis of SRR1553607_1.fastq\n",
      "Approx 10% complete for SRR1553607_1.fastq\n",
      "Approx 20% complete for SRR1553607_1.fastq\n",
      "Approx 30% complete for SRR1553607_1.fastq\n",
      "Approx 40% complete for SRR1553607_1.fastq\n",
      "Approx 50% complete for SRR1553607_1.fastq\n",
      "Approx 60% complete for SRR1553607_1.fastq\n",
      "Approx 70% complete for SRR1553607_1.fastq\n",
      "Approx 80% complete for SRR1553607_1.fastq\n",
      "Approx 90% complete for SRR1553607_1.fastq\n",
      "Approx 100% complete for SRR1553607_1.fastq\n",
      "Analysis complete for SRR1553607_1.fastq\n",
      "Started analysis of trimmed_2.fq\n",
      "Approx 10% complete for trimmed_2.fq\n",
      "Approx 20% complete for trimmed_2.fq\n",
      "Approx 30% complete for trimmed_2.fq\n",
      "Approx 40% complete for trimmed_2.fq\n",
      "Approx 50% complete for trimmed_2.fq\n",
      "Approx 65% complete for trimmed_2.fq\n",
      "Approx 75% complete for trimmed_2.fq\n",
      "Approx 85% complete for trimmed_2.fq\n",
      "Approx 95% complete for trimmed_2.fq\n",
      "Analysis complete for trimmed_2.fq\n"
     ]
    }
   ],
   "source": [
    "# fastqc 将对这些文件进行质量评估并生成详细的报告\n",
    "!fastqc SRR1553607_1.fastq trimmed_2.fq"
   ]
  },
  {
   "cell_type": "code",
   "execution_count": 30,
   "id": "ab73f7ae-5685-4974-8dc3-c19b97a372a0",
   "metadata": {},
   "outputs": [],
   "source": [
    "!open SRR1553607_1_fastqc.html"
   ]
  },
  {
   "cell_type": "code",
   "execution_count": 31,
   "id": "691b3164-2ab5-4a75-a93d-3edab1d7ff2c",
   "metadata": {},
   "outputs": [
    {
     "data": {
      "text/html": [
       "\n",
       "        <iframe\n",
       "            width=\"800\"\n",
       "            height=\"600\"\n",
       "            src=\"SRR1553607_1_fastqc.html\"\n",
       "            frameborder=\"0\"\n",
       "            allowfullscreen\n",
       "            \n",
       "        ></iframe>\n",
       "        "
      ],
      "text/plain": [
       "<IPython.lib.display.IFrame at 0x110f5ecf0>"
      ]
     },
     "execution_count": 31,
     "metadata": {},
     "output_type": "execute_result"
    }
   ],
   "source": [
    "from IPython.display import IFrame\n",
    "IFrame('SRR1553607_1_fastqc.html', width=800, height=600)"
   ]
  },
  {
   "cell_type": "code",
   "execution_count": null,
   "id": "f7d3a2b7-8ddc-4ad9-8b99-33256c17f704",
   "metadata": {},
   "outputs": [],
   "source": []
  }
 ],
 "metadata": {
  "kernelspec": {
   "display_name": "Python 3 (ipykernel)",
   "language": "python",
   "name": "python3"
  },
  "language_info": {
   "codemirror_mode": {
    "name": "ipython",
    "version": 3
   },
   "file_extension": ".py",
   "mimetype": "text/x-python",
   "name": "python",
   "nbconvert_exporter": "python",
   "pygments_lexer": "ipython3",
   "version": "3.13.5"
  }
 },
 "nbformat": 4,
 "nbformat_minor": 5
}
